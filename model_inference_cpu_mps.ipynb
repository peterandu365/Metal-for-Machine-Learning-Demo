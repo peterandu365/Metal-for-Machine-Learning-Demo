{
 "cells": [
  {
   "cell_type": "markdown",
   "metadata": {},
   "source": [
    "Install PyTorch using pip"
   ]
  },
  {
   "cell_type": "code",
   "execution_count": 1,
   "metadata": {},
   "outputs": [],
   "source": [
    "# ! python -m pip install torch"
   ]
  },
  {
   "cell_type": "code",
   "execution_count": 2,
   "metadata": {},
   "outputs": [],
   "source": [
    "# ! python -m pip install torchvision"
   ]
  },
  {
   "cell_type": "code",
   "execution_count": 3,
   "metadata": {},
   "outputs": [
    {
     "name": "stdout",
     "output_type": "stream",
     "text": [
      "mpsDevice mps\n",
      "MPS GPU Total Time (including data preparation): 0.9660699367523193 seconds\n"
     ]
    }
   ],
   "source": [
    "import torch\n",
    "import torchvision\n",
    "import time\n",
    "\n",
    "# Create an MPS device if available, otherwise use CPU\n",
    "mpsDevice = torch.device(\"mps\" if torch.backends.mps.is_available() else \"cpu\")\n",
    "print('mpsDevice', mpsDevice)\n",
    "\n",
    "# Load the model and move it to the MPS device\n",
    "model = torchvision.models.resnet50()\n",
    "model_mps = model.to(device=mpsDevice)\n",
    "\n",
    "# Start timing (including data preparation)\n",
    "start_time_mps = time.time()\n",
    "\n",
    "# Prepare input data for the MPS device\n",
    "sample_input_mps = torch.randn((32, 3, 254, 254), device=mpsDevice)\n",
    "\n",
    "# Perform model inference\n",
    "prediction_mps = model_mps(sample_input_mps)\n",
    "\n",
    "# Stop timing\n",
    "end_time_mps = time.time()\n",
    "\n",
    "# Print the total time taken (including data preparation)\n",
    "print(\"MPS GPU Total Time (including data preparation):\", end_time_mps - start_time_mps, \"seconds\")\n"
   ]
  },
  {
   "cell_type": "code",
   "execution_count": 4,
   "metadata": {},
   "outputs": [
    {
     "name": "stdout",
     "output_type": "stream",
     "text": [
      "cpuDevice cpu\n",
      "CPU Total Time (including data preparation): 3.507776975631714 seconds\n"
     ]
    }
   ],
   "source": [
    "import torch\n",
    "import torchvision\n",
    "import time\n",
    "\n",
    "# Create a CPU device object\n",
    "cpuDevice = torch.device(\"cpu\")\n",
    "print('cpuDevice', cpuDevice)\n",
    "\n",
    "# Load the model and move it to the CPU\n",
    "model = torchvision.models.resnet50()\n",
    "model_cpu = model.to(device=cpuDevice)\n",
    "\n",
    "# Start timing (including data preparation)\n",
    "start_time_cpu = time.time()\n",
    "\n",
    "# Prepare input data for the CPU device\n",
    "sample_input_cpu = torch.randn((32, 3, 254, 254), device=cpuDevice)\n",
    "\n",
    "# Perform model inference\n",
    "prediction_cpu = model_cpu(sample_input_cpu)\n",
    "\n",
    "# Stop timing\n",
    "end_time_cpu = time.time()\n",
    "\n",
    "# Print the total time taken (including data preparation)\n",
    "print(\"CPU Total Time (including data preparation):\", end_time_cpu - start_time_cpu, \"seconds\")\n"
   ]
  },
  {
   "cell_type": "code",
   "execution_count": null,
   "metadata": {},
   "outputs": [],
   "source": []
  }
 ],
 "metadata": {
  "kernelspec": {
   "display_name": "base",
   "language": "python",
   "name": "python3"
  },
  "language_info": {
   "codemirror_mode": {
    "name": "ipython",
    "version": 3
   },
   "file_extension": ".py",
   "mimetype": "text/x-python",
   "name": "python",
   "nbconvert_exporter": "python",
   "pygments_lexer": "ipython3",
   "version": "3.9.18"
  }
 },
 "nbformat": 4,
 "nbformat_minor": 2
}
